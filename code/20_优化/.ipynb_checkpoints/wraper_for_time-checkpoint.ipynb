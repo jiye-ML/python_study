{
 "cells": [
  {
   "cell_type": "markdown",
   "metadata": {},
   "source": [
    "https://zhuanlan.zhihu.com/p/104301061?utm_source=qq&utm_medium=social&utm_oi=50043553841152"
   ]
  },
  {
   "cell_type": "markdown",
   "metadata": {},
   "source": [
    "# 计时与性能分析"
   ]
  },
  {
   "cell_type": "code",
   "execution_count": 2,
   "metadata": {},
   "outputs": [
    {
     "data": {
      "text/plain": [
       "Decimal('7.646200989054704889310727660E+1302')"
      ]
     },
     "execution_count": 2,
     "metadata": {},
     "output_type": "execute_result"
    }
   ],
   "source": [
    "# 下列程序用作演示目的，该程序计算 e 的 X 次方（摘自 Python 文档）：\n",
    "\n",
    "# slow_program.py\n",
    "from decimal import *\n",
    "\n",
    "def exp(x):\n",
    "    getcontext().prec += 2\n",
    "    i, lasts, s, fact, num = 0, 0, 1, 1, 1\n",
    "    while s != lasts:\n",
    "        lasts = s\n",
    "        i += 1\n",
    "        fact *= i\n",
    "        num *= x\n",
    "        s += num / fact\n",
    "    getcontext().prec -= 2\n",
    "    return +s\n",
    "\n",
    "exp(Decimal(150))\n",
    "exp(Decimal(400))\n",
    "exp(Decimal(3000))"
   ]
  },
  {
   "cell_type": "markdown",
   "metadata": {},
   "source": [
    "最懒惰的「性能分析」\n",
    "\n",
    "首先，最简单但说实话也很懒的方法——使用 Unix 的 time 命令"
   ]
  },
  {
   "cell_type": "markdown",
   "metadata": {},
   "source": [
    "# 计时专用函数\n",
    "\n",
    "现在我们知道了需要关注哪里，那么我们可能只想要给运行缓慢的函数计时而不去管代码的其他部分。我们可以使用一个简单的装饰器来做到这点："
   ]
  },
  {
   "cell_type": "code",
   "execution_count": 4,
   "metadata": {},
   "outputs": [],
   "source": [
    "def timeit_wrapper(func):\n",
    "    @wraps(func)\n",
    "    def wrapper(*args, **kwargs):\n",
    "        start = time.perf_counter()  # Alternatively, you can use time.process_time()\n",
    "        func_return_val = func(*args, **kwargs)\n",
    "        end = time.perf_counter()\n",
    "        print('{0:<10}.{1:<8} : {2:<8}'.format(func.__module__, func.__name__, end - start))\n",
    "        return func_return_val\n",
    "    return wrapper"
   ]
  },
  {
   "cell_type": "markdown",
   "metadata": {},
   "source": [
    "接着，将该装饰器按如下方式应用在待测函数上："
   ]
  },
  {
   "cell_type": "code",
   "execution_count": 6,
   "metadata": {},
   "outputs": [
    {
     "name": "stdout",
     "output_type": "stream",
     "text": [
      "module     function   time  \n"
     ]
    },
    {
     "data": {
      "text/plain": [
       "Decimal('7.646200989054704889310727660E+1302')"
      ]
     },
     "execution_count": 6,
     "metadata": {},
     "output_type": "execute_result"
    }
   ],
   "source": [
    "@timeit_wrapper\n",
    "def exp(x):\n",
    "    getcontext().prec += 2\n",
    "    i, lasts, s, fact, num = 0, 0, 1, 1, 1\n",
    "    while s != lasts:\n",
    "        lasts = s\n",
    "        i += 1\n",
    "        fact *= i\n",
    "        num *= x\n",
    "        s += num / fact\n",
    "    getcontext().prec -= 2\n",
    "    return +s\n",
    "\n",
    "print('{0:<10} {1:<8} {2:^8}'.format('module', 'function', 'time'))\n",
    "exp(Decimal(150))\n",
    "exp(Decimal(400))\n",
    "exp(Decimal(3000))"
   ]
  },
  {
   "cell_type": "code",
   "execution_count": null,
   "metadata": {},
   "outputs": [],
   "source": []
  }
 ],
 "metadata": {
  "kernelspec": {
   "display_name": "Python 3",
   "language": "python",
   "name": "python3"
  },
  "language_info": {
   "codemirror_mode": {
    "name": "ipython",
    "version": 3
   },
   "file_extension": ".py",
   "mimetype": "text/x-python",
   "name": "python",
   "nbconvert_exporter": "python",
   "pygments_lexer": "ipython3",
   "version": "3.7.3"
  }
 },
 "nbformat": 4,
 "nbformat_minor": 2
}
